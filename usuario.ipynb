{
 "cells": [
  {
   "cell_type": "code",
   "execution_count": 3,
   "metadata": {},
   "outputs": [],
   "source": [
    "import pandas as pd\n",
    "import numpy as np\n",
    "import matplotlib.pyplot as plt\n",
    "import mysql.connector\n",
    "import seaborn as sns\n",
    "from datetime import datetime\n",
    "from seaborn import colors\n",
    "cnn = mysql.connector.connect(host=\"localhost\", user=\"root\", \n",
    "        passwd=\"45237823\", database=\"data\")"
   ]
  },
  {
   "cell_type": "code",
   "execution_count": 31,
   "metadata": {},
   "outputs": [],
   "source": [
    "def Da_Ti(N_1a,N_1b):\n",
    "    cur = cnn.cursor()\n",
    "    sql = \"SELECT Time FROM Data.polar where N > {} AND N < {} \".format(N_1a,N_1b)\n",
    "    cur.execute(sql)\n",
    "    datos = cur.fetchall()\n",
    "    cur.close()  \n",
    "    return datos\n",
    "def Da_po(N_1a,N_1b):\n",
    "    cur = cnn.cursor()\n",
    "    sql = \"SELECT Value FROM Data.polar where N > {} AND N < {} \".format(N_1a,N_1b)\n",
    "    cur.execute(sql)\n",
    "    datos = cur.fetchall()\n",
    "    cur.close()  \n",
    "    return datos\n",
    "def Da_myo(N_1a,N_1b):\n",
    "    cur = cnn.cursor()\n",
    "    sql = \"SELECT Max FROM Data.myoware where N > {} AND N < {} \".format(N_1a,N_1b)\n",
    "    cur.execute(sql)\n",
    "    datos = cur.fetchall()\n",
    "    cur.close()  \n",
    "    return datos\n",
    "def dataPo(a,b):\n",
    "    das=Da_po(a,b)\n",
    "    for n in range(29):\n",
    "       das[n]=das[n][0]\n",
    "    return das\n",
    "def dataMy(a,b):\n",
    "    das=Da_myo(a,b)\n",
    "    for n in range(29):\n",
    "       das[n]=das[n][0]\n",
    "    return das\n",
    "def dataTi(a,b):\n",
    "    das=Da_Ti(a,b)\n",
    "    for n in range(29):\n",
    "       das[n]=das[n][0]\n",
    "    return das\n"
   ]
  },
  {
   "cell_type": "code",
   "execution_count": 32,
   "metadata": {},
   "outputs": [],
   "source": [
    "datos=[]\n",
    "levels= []         \n",
    "p=15543\n",
    "for i in range(7):\n",
    "    x=p+i*30\n",
    "    levels.append(x)\n",
    "dfp=[]\n",
    "num=int(len(levels)-1)\n",
    "for t in range(6):\n",
    "    dfp.append(dataTi(levels[t],levels[t+1]))\n",
    "datos.append(dfp)\n",
    "dfp=[]\n",
    "for t in range(6):\n",
    "    dfp.append(dataPo(levels[t],levels[t+1]))\n",
    "\n",
    "#dat1=pd.DataFrame(dfp)\n",
    "#dat1f=dat1.transpose()\n",
    "datos.append(dfp)\n",
    "m=8353\n",
    "levels= [] \n",
    "for i in range(7):\n",
    "    x=m+i*30\n",
    "    levels.append(x)\n",
    "dfp=[]\n",
    "num=int(len(levels)-1)\n",
    "for t in range(6):\n",
    "    dfp.append(dataMy(levels[t],levels[t+1]))\n",
    "\n",
    "#datm=pd.DataFrame(dfp)\n",
    "#datmf=datm.transpose()\n",
    "datos.append(dfp)"
   ]
  },
  {
   "cell_type": "code",
   "execution_count": 39,
   "metadata": {},
   "outputs": [],
   "source": [
    "#print(datos[0][0])\n",
    "#print(datos[1][0])\n",
    "dat=[]\n",
    "dat.append(datos[0][0])\n",
    "dat.append(datos[1][0])\n",
    "dat.append(datos[2][0])"
   ]
  },
  {
   "cell_type": "code",
   "execution_count": 40,
   "metadata": {},
   "outputs": [
    {
     "name": "stdout",
     "output_type": "stream",
     "text": [
      "[[544, 404, 378, 329, 259, 139, 585, 530, 589, 615, 36, 129, 245, 806, 977, 624, 931, 1119, 774, 621, 440, 130, 146, 214, 282, 186, 240, 189, 68], [100, 83, 144, 469, 577, 183, 575, 752, 734, 227, 141, 373, 197, 128, 145, 0, 15, 141, 158, 94, 647, 432, 1040, 1267, 560, 1104, 807, 739, 59], [417, 247, 208, 139, 1264, 1040, 127, 240, 383, 320, 207, 967, 850, 299, 590, 1666, 1047, 1046, 357, 325, 409, 176, 457, 439, 446, 1430, 633, 816, 619], [467, 539, 240, 79, 475, 688, 390, 235, 1201, 1049, 983, 1383, 1014, 913, 854, 741, 467, 772, 322, 779, 1135, 142, 244, 752, 674, 586, 41, 0, 43], [455, 209, 627, 381, 99, 212, 640, 661, 208, 345, 813, 239, 958, 1793, 851, 494, 742, 92, 0, 76, 151, 0, 23, 38, 1841, 1774, 638, 134, 75], [176, 80, 163, 740, 560, 289, 235, 944, 1070, 929, 233, 88, 51, 19, 75, 525, 673, 95, 29, 208, 336, 478, 138, 789, 698, 554, 445, 1185, 1490]]\n"
     ]
    }
   ],
   "source": [
    "print(datos[2])"
   ]
  },
  {
   "cell_type": "code",
   "execution_count": 41,
   "metadata": {},
   "outputs": [
    {
     "name": "stdout",
     "output_type": "stream",
     "text": [
      "[['17:18:02', '17:18:03', '17:18:04', '17:18:05', '17:18:06', '17:18:07', '17:18:08', '17:18:09', '17:18:10', '17:18:11', '17:18:12', '17:18:13', '17:18:14', '17:18:15', '17:18:16', '17:18:17', '17:18:18', '17:18:19', '17:18:20', '17:18:21', '17:18:22', '17:18:23', '17:18:24', '17:18:25', '17:18:26', '17:18:27', '17:18:28', '17:18:29', '17:18:30'], [105, 105, 104, 102, 99, 99, 98, 98, 96, 97, 100, 100, 103, 103, 106, 109, 111, 111, 111, 111, 112, 113, 113, 113, 112, 111, 110, 108, 108], [544, 404, 378, 329, 259, 139, 585, 530, 589, 615, 36, 129, 245, 806, 977, 624, 931, 1119, 774, 621, 440, 130, 146, 214, 282, 186, 240, 189, 68]]\n",
      "           0    1     2\n",
      "0   17:18:02  105   544\n",
      "1   17:18:03  105   404\n",
      "2   17:18:04  104   378\n",
      "3   17:18:05  102   329\n",
      "4   17:18:06   99   259\n",
      "5   17:18:07   99   139\n",
      "6   17:18:08   98   585\n",
      "7   17:18:09   98   530\n",
      "8   17:18:10   96   589\n",
      "9   17:18:11   97   615\n",
      "10  17:18:12  100    36\n",
      "11  17:18:13  100   129\n",
      "12  17:18:14  103   245\n",
      "13  17:18:15  103   806\n",
      "14  17:18:16  106   977\n",
      "15  17:18:17  109   624\n",
      "16  17:18:18  111   931\n",
      "17  17:18:19  111  1119\n",
      "18  17:18:20  111   774\n",
      "19  17:18:21  111   621\n",
      "20  17:18:22  112   440\n",
      "21  17:18:23  113   130\n",
      "22  17:18:24  113   146\n",
      "23  17:18:25  113   214\n",
      "24  17:18:26  112   282\n",
      "25  17:18:27  111   186\n",
      "26  17:18:28  110   240\n",
      "27  17:18:29  108   189\n",
      "28  17:18:30  108    68\n"
     ]
    }
   ],
   "source": [
    "print(dat)\n",
    "td=pd.DataFrame(dat)\n",
    "td=td.transpose()\n",
    "print(td.head(30))"
   ]
  }
 ],
 "metadata": {
  "interpreter": {
   "hash": "fe44fef87f92f48a3a32707d0df204585f471652bc0ce87358a3ce712bc24db0"
  },
  "kernelspec": {
   "display_name": "Python 3.9.7 64-bit",
   "name": "python3"
  },
  "language_info": {
   "codemirror_mode": {
    "name": "ipython",
    "version": 3
   },
   "file_extension": ".py",
   "mimetype": "text/x-python",
   "name": "python",
   "nbconvert_exporter": "python",
   "pygments_lexer": "ipython3",
   "version": "3.9.7"
  },
  "orig_nbformat": 4
 },
 "nbformat": 4,
 "nbformat_minor": 2
}
